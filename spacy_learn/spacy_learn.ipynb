{
 "cells": [
  {
   "cell_type": "code",
   "execution_count": 1,
   "metadata": {
    "collapsed": true
   },
   "outputs": [],
   "source": [
    "import spacy\n",
    "nlp = spacy.load(\"en\")"
   ]
  },
  {
   "cell_type": "code",
   "execution_count": 2,
   "metadata": {
    "collapsed": true
   },
   "outputs": [],
   "source": [
    "doc = nlp(u\"新华社消息： 2007.9.18 Emerging after two hours of talks with Chinese President Xi Jinping, Trump said he doesn't fault China for taking advantage of differences between the way the two countries do business. 3 hours later\")"
   ]
  },
  {
   "cell_type": "code",
   "execution_count": 3,
   "metadata": {
    "collapsed": true
   },
   "outputs": [],
   "source": [
    "def dump(obj):\n",
    "  for attr in dir(obj):\n",
    "    print(\"obj.%s = %r\" % (attr, getattr(obj, attr)))"
   ]
  },
  {
   "cell_type": "code",
   "execution_count": 16,
   "metadata": {},
   "outputs": [
    {
     "data": {
      "text/plain": [
       "[(0, 5, '新华社消息', '新华社消息', '新华社消息', '新华社消息', 'VERB', 'VB', 'xxxx'),\n",
       " (1, 1, '：', '：', ':', '：', 'PUNCT', ':', '：'),\n",
       " (2,\n",
       "  9,\n",
       "  '2007.9.18',\n",
       "  '2007.9.18',\n",
       "  '2007.9.18',\n",
       "  '2007.9.18',\n",
       "  'NUM',\n",
       "  'CD',\n",
       "  'dddd.d.dd'),\n",
       " (3, 8, 'Emerging', 'emerging', 'emerging', 'emerge', 'VERB', 'VBG', 'Xxxxx'),\n",
       " (4, 5, 'after', 'after', 'after', 'after', 'ADP', 'IN', 'xxxx'),\n",
       " (5, 3, 'two', 'two', 'two', 'two', 'NUM', 'CD', 'xxx'),\n",
       " (6, 5, 'hours', 'hours', 'hours', 'hour', 'NOUN', 'NNS', 'xxxx'),\n",
       " (7, 2, 'of', 'of', 'of', 'of', 'ADP', 'IN', 'xx'),\n",
       " (8, 5, 'talks', 'talks', 'talks', 'talk', 'NOUN', 'NNS', 'xxxx'),\n",
       " (9, 4, 'with', 'with', 'with', 'with', 'ADP', 'IN', 'xxxx'),\n",
       " (10, 7, 'Chinese', 'chinese', 'chinese', 'chinese', 'ADJ', 'JJ', 'Xxxxx'),\n",
       " (11,\n",
       "  9,\n",
       "  'President',\n",
       "  'president',\n",
       "  'president',\n",
       "  'president',\n",
       "  'PROPN',\n",
       "  'NNP',\n",
       "  'Xxxxx'),\n",
       " (12, 2, 'Xi', 'xi', 'xi', 'xi', 'PROPN', 'NNP', 'Xx'),\n",
       " (13, 7, 'Jinping', 'jinping', 'jinping', 'jinping', 'PROPN', 'NNP', 'Xxxxx'),\n",
       " (14, 1, ',', ',', ',', ',', 'PUNCT', ',', ','),\n",
       " (15, 5, 'Trump', 'trump', 'trump', 'trump', 'PROPN', 'NNP', 'Xxxxx'),\n",
       " (16, 4, 'said', 'said', 'said', 'say', 'VERB', 'VBD', 'xxxx'),\n",
       " (17, 2, 'he', 'he', 'he', '-PRON-', 'PRON', 'PRP', 'xx'),\n",
       " (18, 4, 'does', 'does', 'does', 'do', 'VERB', 'VBZ', 'xxxx'),\n",
       " (19, 3, \"n't\", \"n't\", 'not', 'not', 'ADV', 'RB', \"x'x\"),\n",
       " (20, 5, 'fault', 'fault', 'fault', 'fault', 'VERB', 'VB', 'xxxx'),\n",
       " (21, 5, 'China', 'china', 'china', 'china', 'PROPN', 'NNP', 'Xxxxx'),\n",
       " (22, 3, 'for', 'for', 'for', 'for', 'ADP', 'IN', 'xxx'),\n",
       " (23, 6, 'taking', 'taking', 'taking', 'take', 'VERB', 'VBG', 'xxxx'),\n",
       " (24,\n",
       "  9,\n",
       "  'advantage',\n",
       "  'advantage',\n",
       "  'advantage',\n",
       "  'advantage',\n",
       "  'NOUN',\n",
       "  'NN',\n",
       "  'xxxx'),\n",
       " (25, 2, 'of', 'of', 'of', 'of', 'ADP', 'IN', 'xx'),\n",
       " (26,\n",
       "  11,\n",
       "  'differences',\n",
       "  'differences',\n",
       "  'differences',\n",
       "  'difference',\n",
       "  'NOUN',\n",
       "  'NNS',\n",
       "  'xxxx'),\n",
       " (27, 7, 'between', 'between', 'between', 'between', 'ADP', 'IN', 'xxxx'),\n",
       " (28, 3, 'the', 'the', 'the', 'the', 'DET', 'DT', 'xxx'),\n",
       " (29, 3, 'way', 'way', 'way', 'way', 'NOUN', 'NN', 'xxx'),\n",
       " (30, 3, 'the', 'the', 'the', 'the', 'DET', 'DT', 'xxx'),\n",
       " (31, 3, 'two', 'two', 'two', 'two', 'NUM', 'CD', 'xxx'),\n",
       " (32,\n",
       "  9,\n",
       "  'countries',\n",
       "  'countries',\n",
       "  'countries',\n",
       "  'country',\n",
       "  'NOUN',\n",
       "  'NNS',\n",
       "  'xxxx'),\n",
       " (33, 2, 'do', 'do', 'do', 'do', 'VERB', 'VBP', 'xx'),\n",
       " (34, 8, 'business', 'business', 'business', 'business', 'NOUN', 'NN', 'xxxx'),\n",
       " (35, 1, '.', '.', '.', '.', 'PUNCT', '.', '.'),\n",
       " (36, 1, '3', '3', '3', '3', 'NUM', 'CD', 'd'),\n",
       " (37, 5, 'hours', 'hours', 'hours', 'hour', 'NOUN', 'NNS', 'xxxx'),\n",
       " (38, 5, 'later', 'later', 'later', 'later', 'ADV', 'RB', 'xxxx')]"
      ]
     },
     "execution_count": 16,
     "metadata": {},
     "output_type": "execute_result"
    }
   ],
   "source": [
    "d = nlp(u\"#####-PRON- I am running, I Can't  say, so-called-ai, his' mother is liu's sister. the sisters' book. the dog's hand. that's it\")\n",
    "[(x.i,len(x),x.text,x.lower_,x.norm_,x.lemma_,x.pos_,x.tag_,x.shape_,) for x in doc]"
   ]
  },
  {
   "cell_type": "code",
   "execution_count": 13,
   "metadata": {},
   "outputs": [
    {
     "data": {
      "text/plain": [
       "['_',\n",
       " '__bytes__',\n",
       " '__class__',\n",
       " '__delattr__',\n",
       " '__dir__',\n",
       " '__doc__',\n",
       " '__eq__',\n",
       " '__format__',\n",
       " '__ge__',\n",
       " '__getattribute__',\n",
       " '__gt__',\n",
       " '__hash__',\n",
       " '__init__',\n",
       " '__init_subclass__',\n",
       " '__le__',\n",
       " '__len__',\n",
       " '__lt__',\n",
       " '__ne__',\n",
       " '__new__',\n",
       " '__pyx_vtable__',\n",
       " '__reduce__',\n",
       " '__reduce_ex__',\n",
       " '__repr__',\n",
       " '__setattr__',\n",
       " '__setstate__',\n",
       " '__sizeof__',\n",
       " '__str__',\n",
       " '__subclasshook__',\n",
       " '__unicode__',\n",
       " 'ancestors',\n",
       " 'check_flag',\n",
       " 'children',\n",
       " 'cluster',\n",
       " 'conjuncts',\n",
       " 'dep',\n",
       " 'dep_',\n",
       " 'doc',\n",
       " 'ent_id',\n",
       " 'ent_id_',\n",
       " 'ent_iob',\n",
       " 'ent_iob_',\n",
       " 'ent_type',\n",
       " 'ent_type_',\n",
       " 'get_extension',\n",
       " 'has_extension',\n",
       " 'has_vector',\n",
       " 'head',\n",
       " 'i',\n",
       " 'idx',\n",
       " 'is_alpha',\n",
       " 'is_ancestor',\n",
       " 'is_ascii',\n",
       " 'is_bracket',\n",
       " 'is_digit',\n",
       " 'is_left_punct',\n",
       " 'is_lower',\n",
       " 'is_oov',\n",
       " 'is_punct',\n",
       " 'is_quote',\n",
       " 'is_right_punct',\n",
       " 'is_sent_start',\n",
       " 'is_space',\n",
       " 'is_stop',\n",
       " 'is_title',\n",
       " 'is_upper',\n",
       " 'lang',\n",
       " 'lang_',\n",
       " 'left_edge',\n",
       " 'lefts',\n",
       " 'lemma',\n",
       " 'lemma_',\n",
       " 'lex_id',\n",
       " 'like_email',\n",
       " 'like_num',\n",
       " 'like_url',\n",
       " 'lower',\n",
       " 'lower_',\n",
       " 'n_lefts',\n",
       " 'n_rights',\n",
       " 'nbor',\n",
       " 'norm',\n",
       " 'norm_',\n",
       " 'orth',\n",
       " 'orth_',\n",
       " 'pos',\n",
       " 'pos_',\n",
       " 'prefix',\n",
       " 'prefix_',\n",
       " 'prob',\n",
       " 'rank',\n",
       " 'right_edge',\n",
       " 'rights',\n",
       " 'sent_start',\n",
       " 'sentiment',\n",
       " 'set_extension',\n",
       " 'shape',\n",
       " 'shape_',\n",
       " 'similarity',\n",
       " 'string',\n",
       " 'subtree',\n",
       " 'suffix',\n",
       " 'suffix_',\n",
       " 'tag',\n",
       " 'tag_',\n",
       " 'text',\n",
       " 'text_with_ws',\n",
       " 'vector',\n",
       " 'vector_norm',\n",
       " 'vocab',\n",
       " 'whitespace_']"
      ]
     },
     "execution_count": 13,
     "metadata": {},
     "output_type": "execute_result"
    }
   ],
   "source": [
    "dir(d[4])"
   ]
  },
  {
   "cell_type": "code",
   "execution_count": null,
   "metadata": {
    "collapsed": true
   },
   "outputs": [],
   "source": []
  }
 ],
 "metadata": {
  "kernelspec": {
   "display_name": "Python 3",
   "language": "python",
   "name": "python3"
  },
  "language_info": {
   "codemirror_mode": {
    "name": "ipython",
    "version": 3
   },
   "file_extension": ".py",
   "mimetype": "text/x-python",
   "name": "python",
   "nbconvert_exporter": "python",
   "pygments_lexer": "ipython3",
   "version": "3.6.3"
  }
 },
 "nbformat": 4,
 "nbformat_minor": 2
}
