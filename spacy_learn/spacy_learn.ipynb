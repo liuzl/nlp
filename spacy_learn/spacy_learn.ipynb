{
 "cells": [
  {
   "cell_type": "code",
   "execution_count": 1,
   "metadata": {
    "collapsed": true
   },
   "outputs": [],
   "source": [
    "import spacy\n",
    "nlp = spacy.load(\"en\")"
   ]
  },
  {
   "cell_type": "code",
   "execution_count": 2,
   "metadata": {
    "collapsed": true
   },
   "outputs": [],
   "source": [
    "doc = nlp(u\"新华社消息： 2007.9.18 Emerging after two hours of talks with Chinese President Xi Jinping, Trump said he doesn't fault China for taking advantage of differences between the way the two countries do business. 3 hours later\")"
   ]
  },
  {
   "cell_type": "code",
   "execution_count": 3,
   "metadata": {
    "collapsed": true
   },
   "outputs": [],
   "source": [
    "def dump(obj):\n",
    "  for attr in dir(obj):\n",
    "    print(\"obj.%s = %r\" % (attr, getattr(obj, attr)))"
   ]
  },
  {
   "cell_type": "code",
   "execution_count": 20,
   "metadata": {
    "collapsed": true
   },
   "outputs": [],
   "source": [
    "d = nlp(u\"#####-PRON- I am running, I Can't  say, so-called-ai, his' mother is liu's sister. the sisters' book. the dog's hand. that's it\")"
   ]
  },
  {
   "cell_type": "code",
   "execution_count": 21,
   "metadata": {},
   "outputs": [
    {
     "data": {
      "text/plain": [
       "[(0, 1, '#', '#', '#', 'SYM', '$', '#'),\n",
       " (1, 1, '#', '#', '#', 'SYM', '$', '#'),\n",
       " (2, 1, '#', '#', '#', 'SYM', '$', '#'),\n",
       " (3, 1, '#', '#', '#', 'SYM', '$', '#'),\n",
       " (4, 1, '#', '#', '#', 'SYM', '$', '#'),\n",
       " (5, 6, '-PRON-', '-pron-', '-pron-', 'PUNCT', ':', '-XXXX-'),\n",
       " (6, 1, 'I', 'i', '-PRON-', 'PRON', 'PRP', 'X'),\n",
       " (7, 2, 'am', 'a.m.', 'be', 'VERB', 'VBP', 'xx'),\n",
       " (8, 7, 'running', 'running', 'run', 'VERB', 'VBG', 'xxxx'),\n",
       " (9, 1, ',', ',', ',', 'PUNCT', ',', ','),\n",
       " (10, 1, 'I', 'i', '-PRON-', 'PRON', 'PRP', 'X'),\n",
       " (11, 2, 'Ca', 'can', 'can', 'VERB', 'MD', 'Xx'),\n",
       " (12, 3, \"n't\", 'not', 'not', 'ADV', 'RB', \"x'x\"),\n",
       " (13, 1, ' ', ' ', ' ', 'SPACE', '', ' '),\n",
       " (14, 3, 'say', 'say', 'say', 'VERB', 'VB', 'xxx'),\n",
       " (15, 1, ',', ',', ',', 'PUNCT', ',', ','),\n",
       " (16, 2, 'so', 'so', 'so', 'ADV', 'RB', 'xx'),\n",
       " (17, 1, '-', '-', '-', 'PUNCT', 'HYPH', '-'),\n",
       " (18, 6, 'called', 'called', 'call', 'VERB', 'VBN', 'xxxx'),\n",
       " (19, 1, '-', '-', '-', 'PUNCT', 'HYPH', '-'),\n",
       " (20, 2, 'ai', 'ai', 'ai', 'PROPN', 'NNP', 'xx'),\n",
       " (21, 1, ',', ',', ',', 'PUNCT', ',', ','),\n",
       " (22, 3, 'his', 'his', '-PRON-', 'ADJ', 'PRP$', 'xxx'),\n",
       " (23, 1, \"'\", \"'\", \"'\", 'PUNCT', '``', \"'\"),\n",
       " (24, 6, 'mother', 'mother', 'mother', 'NOUN', 'NN', 'xxxx'),\n",
       " (25, 2, 'is', 'is', 'be', 'VERB', 'VBZ', 'xx'),\n",
       " (26, 3, 'liu', 'liu', 'liu', 'NOUN', 'NN', 'xxx'),\n",
       " (27, 2, \"'s\", \"'s\", \"'s\", 'PART', 'POS', \"'x\"),\n",
       " (28, 6, 'sister', 'sister', 'sister', 'NOUN', 'NN', 'xxxx'),\n",
       " (29, 1, '.', '.', '.', 'PUNCT', '.', '.'),\n",
       " (30, 3, 'the', 'the', 'the', 'DET', 'DT', 'xxx'),\n",
       " (31, 7, 'sisters', 'sisters', 'sister', 'NOUN', 'NNS', 'xxxx'),\n",
       " (32, 1, \"'\", \"'\", \"'\", 'PART', 'POS', \"'\"),\n",
       " (33, 4, 'book', 'book', 'book', 'NOUN', 'NN', 'xxxx'),\n",
       " (34, 1, '.', '.', '.', 'PUNCT', '.', '.'),\n",
       " (35, 3, 'the', 'the', 'the', 'DET', 'DT', 'xxx'),\n",
       " (36, 3, 'dog', 'dog', 'dog', 'NOUN', 'NN', 'xxx'),\n",
       " (37, 2, \"'s\", \"'s\", \"'s\", 'PART', 'POS', \"'x\"),\n",
       " (38, 4, 'hand', 'hand', 'hand', 'NOUN', 'NN', 'xxxx'),\n",
       " (39, 1, '.', '.', '.', 'PUNCT', '.', '.'),\n",
       " (40, 4, 'that', 'that', 'that', 'DET', 'DT', 'xxxx'),\n",
       " (41, 2, \"'s\", \"'s\", 'be', 'VERB', 'VBZ', \"'x\"),\n",
       " (42, 2, 'it', 'it', '-PRON-', 'PRON', 'PRP', 'xx')]"
      ]
     },
     "execution_count": 21,
     "metadata": {},
     "output_type": "execute_result"
    }
   ],
   "source": [
    "[(x.i,len(x),x.text,x.norm_,x.lemma_,x.pos_,x.tag_,x.shape_,) for x in d]"
   ]
  },
  {
   "cell_type": "code",
   "execution_count": null,
   "metadata": {
    "collapsed": true
   },
   "outputs": [],
   "source": []
  }
 ],
 "metadata": {
  "kernelspec": {
   "display_name": "Python 3",
   "language": "python",
   "name": "python3"
  },
  "language_info": {
   "codemirror_mode": {
    "name": "ipython",
    "version": 3
   },
   "file_extension": ".py",
   "mimetype": "text/x-python",
   "name": "python",
   "nbconvert_exporter": "python",
   "pygments_lexer": "ipython3",
   "version": "3.6.3"
  }
 },
 "nbformat": 4,
 "nbformat_minor": 2
}
