{
 "cells": [
  {
   "cell_type": "code",
   "execution_count": 3,
   "metadata": {
    "collapsed": true
   },
   "outputs": [],
   "source": [
    "import spacy\n",
    "nlp = spacy.load(\"en\")"
   ]
  },
  {
   "cell_type": "code",
   "execution_count": 73,
   "metadata": {
    "collapsed": true
   },
   "outputs": [],
   "source": [
    "doc = nlp(u\"新华社消息： 2007.9.18 Emerging after two hours of talks with Chinese President Xi Jinping, Trump said he doesn't fault China for taking advantage of differences between the way the two countries do business. 3 hours later\")"
   ]
  },
  {
   "cell_type": "code",
   "execution_count": 82,
   "metadata": {},
   "outputs": [],
   "source": [
    "def dump(obj):\n",
    "  for attr in dir(obj):\n",
    "    print(\"obj.%s = %r\" % (attr, getattr(obj, attr)))"
   ]
  },
  {
   "cell_type": "code",
   "execution_count": 119,
   "metadata": {
    "collapsed": true
   },
   "outputs": [],
   "source": [
    "d = nlp(u\"I am running, I Can't  say, hahahahahah, so-called-ai, his' mother is liu's sister. the sisters' book. the dog's hand\")"
   ]
  },
  {
   "cell_type": "code",
   "execution_count": 120,
   "metadata": {},
   "outputs": [
    {
     "name": "stdout",
     "output_type": "stream",
     "text": [
      "I | i | -PRON- | X | 1\n",
      "am | a.m. | be | xx | 2\n",
      "running | running | run | xxxx | 7\n",
      ", | , | , | , | 1\n",
      "I | i | -PRON- | X | 1\n",
      "Ca | can | can | Xx | 2\n",
      "n't | not | not | x'x | 3\n",
      "  |   |   |   | 1\n",
      "say | say | say | xxx | 3\n",
      ", | , | , | , | 1\n",
      "hahahahahah | hahahahahah | hahahahahah | xxxx | 11\n",
      ", | , | , | , | 1\n",
      "so | so | so | xx | 2\n",
      "- | - | - | - | 1\n",
      "called | called | call | xxxx | 6\n",
      "- | - | - | - | 1\n",
      "ai | ai | ai | xx | 2\n",
      ", | , | , | , | 1\n",
      "his | his | -PRON- | xxx | 3\n",
      "' | ' | ' | ' | 1\n",
      "mother | mother | mother | xxxx | 6\n",
      "is | is | be | xx | 2\n",
      "liu | liu | liu | xxx | 3\n",
      "'s | 's | 's | 'x | 2\n",
      "sister | sister | sister | xxxx | 6\n",
      ". | . | . | . | 1\n",
      "the | the | the | xxx | 3\n",
      "sisters | sisters | sister | xxxx | 7\n",
      "' | ' | ' | ' | 1\n",
      "book | book | book | xxxx | 4\n",
      ". | . | . | . | 1\n",
      "the | the | the | xxx | 3\n",
      "dog | dog | dog | xxx | 3\n",
      "'s | 's | 's | 'x | 2\n",
      "hand | hand | hand | xxxx | 4\n"
     ]
    }
   ],
   "source": [
    "for i in d: print(i.text,\"|\",i.norm_,\"|\",i.lemma_,\"|\",i.shape_,\"|\",len(i.text))"
   ]
  },
  {
   "cell_type": "code",
   "execution_count": null,
   "metadata": {
    "collapsed": true
   },
   "outputs": [],
   "source": []
  }
 ],
 "metadata": {
  "kernelspec": {
   "display_name": "Python 3",
   "language": "python",
   "name": "python3"
  },
  "language_info": {
   "codemirror_mode": {
    "name": "ipython",
    "version": 3
   },
   "file_extension": ".py",
   "mimetype": "text/x-python",
   "name": "python",
   "nbconvert_exporter": "python",
   "pygments_lexer": "ipython3",
   "version": "3.6.3"
  }
 },
 "nbformat": 4,
 "nbformat_minor": 2
}
