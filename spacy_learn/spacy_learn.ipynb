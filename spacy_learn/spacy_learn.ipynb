{
 "cells": [
  {
   "cell_type": "code",
   "execution_count": 3,
   "metadata": {
    "collapsed": true
   },
   "outputs": [],
   "source": [
    "import spacy\n",
    "nlp = spacy.load(\"en\")"
   ]
  },
  {
   "cell_type": "code",
   "execution_count": 73,
   "metadata": {
    "collapsed": true
   },
   "outputs": [],
   "source": [
    "doc = nlp(u\"新华社消息： 2007.9.18 Emerging after two hours of talks with Chinese President Xi Jinping, Trump said he doesn't fault China for taking advantage of differences between the way the two countries do business. 3 hours later\")"
   ]
  },
  {
   "cell_type": "code",
   "execution_count": 74,
   "metadata": {},
   "outputs": [
    {
     "name": "stdout",
     "output_type": "stream",
     "text": [
      "新华社消息 O  新华社消息 xxxx\n",
      "： O  : ：\n",
      "2007.9.18 O  2007.9.18 dddd.d.dd\n",
      "Emerging O  emerging Xxxxx\n",
      "after O  after xxxx\n",
      "two B TIME two xxx\n",
      "hours I TIME hours xxxx\n",
      "of O  of xx\n",
      "talks O  talks xxxx\n",
      "with O  with xxxx\n",
      "Chinese B NORP chinese Xxxxx\n",
      "President O  president Xxxxx\n",
      "Xi B PERSON xi Xx\n",
      "Jinping I PERSON jinping Xxxxx\n",
      ", O  , ,\n",
      "Trump B PERSON trump Xxxxx\n",
      "said O  said xxxx\n",
      "he O  he xx\n",
      "does O  does xxxx\n",
      "n't O  not x'x\n",
      "fault O  fault xxxx\n",
      "China B GPE china Xxxxx\n",
      "for O  for xxx\n",
      "taking O  taking xxxx\n",
      "advantage O  advantage xxxx\n",
      "of O  of xx\n",
      "differences O  differences xxxx\n",
      "between O  between xxxx\n",
      "the O  the xxx\n",
      "way O  way xxx\n",
      "the O  the xxx\n",
      "two B CARDINAL two xxx\n",
      "countries O  countries xxxx\n",
      "do O  do xx\n",
      "business O  business xxxx\n",
      ". O  . .\n",
      "3 B TIME 3 d\n",
      "hours I TIME hours xxxx\n",
      "later I TIME later xxxx\n"
     ]
    }
   ],
   "source": [
    "for i in range(len(doc)): \n",
    "    print(doc[i], doc[i].ent_iob_, doc[i].ent_type_, doc[i].norm_, doc[i].shape_)"
   ]
  },
  {
   "cell_type": "code",
   "execution_count": 82,
   "metadata": {},
   "outputs": [],
   "source": [
    "def dump(obj):\n",
    "  for attr in dir(obj):\n",
    "    print(\"obj.%s = %r\" % (attr, getattr(obj, attr)))"
   ]
  },
  {
   "cell_type": "code",
   "execution_count": 115,
   "metadata": {
    "collapsed": true
   },
   "outputs": [],
   "source": [
    "d = nlp(u\"I am running, I Can't  say, hahahahahah, so-called-ai, his' mother is liu's sister\")"
   ]
  },
  {
   "cell_type": "code",
   "execution_count": 116,
   "metadata": {},
   "outputs": [
    {
     "name": "stdout",
     "output_type": "stream",
     "text": [
      "I | i | -PRON- | X | 1\n",
      "am | a.m. | be | xx | 2\n",
      "running | running | run | xxxx | 7\n",
      ", | , | , | , | 1\n",
      "I | i | -PRON- | X | 1\n",
      "Ca | can | can | Xx | 2\n",
      "n't | not | not | x'x | 3\n",
      "  |   |   |   | 1\n",
      "say | say | say | xxx | 3\n",
      ", | , | , | , | 1\n",
      "hahahahahah | hahahahahah | hahahahahah | xxxx | 11\n",
      ", | , | , | , | 1\n",
      "so | so | so | xx | 2\n",
      "- | - | - | - | 1\n",
      "called | called | call | xxxx | 6\n",
      "- | - | - | - | 1\n",
      "ai | ai | ai | xx | 2\n",
      ", | , | , | , | 1\n",
      "his | his | -PRON- | xxx | 3\n",
      "' | ' | ' | ' | 1\n",
      "mother | mother | mother | xxxx | 6\n",
      "is | is | be | xx | 2\n",
      "liu | liu | liu | xxx | 3\n",
      "'s | 's | 's | 'x | 2\n",
      "sister | sister | sister | xxxx | 6\n"
     ]
    }
   ],
   "source": [
    "for i in d: print(i.text,\"|\",i.norm_,\"|\",i.lemma_,\"|\",i.shape_,\"|\",len(i.text))"
   ]
  },
  {
   "cell_type": "code",
   "execution_count": null,
   "metadata": {
    "collapsed": true
   },
   "outputs": [],
   "source": []
  }
 ],
 "metadata": {
  "kernelspec": {
   "display_name": "Python 3",
   "language": "python",
   "name": "python3"
  },
  "language_info": {
   "codemirror_mode": {
    "name": "ipython",
    "version": 3
   },
   "file_extension": ".py",
   "mimetype": "text/x-python",
   "name": "python",
   "nbconvert_exporter": "python",
   "pygments_lexer": "ipython3",
   "version": "3.6.3"
  }
 },
 "nbformat": 4,
 "nbformat_minor": 2
}
